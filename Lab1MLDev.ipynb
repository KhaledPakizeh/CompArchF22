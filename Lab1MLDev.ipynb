{
  "nbformat": 4,
  "nbformat_minor": 0,
  "metadata": {
    "colab": {
      "provenance": [],
      "authorship_tag": "ABX9TyOSB98vyPE3cqTUF561HXcN"
    },
    "kernelspec": {
      "name": "python3",
      "display_name": "Python 3"
    },
    "language_info": {
      "name": "python"
    }
  },
  "cells": [
    {
      "cell_type": "code",
      "execution_count": 9,
      "metadata": {
        "id": "LrxloI_1FddK",
        "colab": {
          "base_uri": "https://localhost:8080/"
        },
        "outputId": "d1620aaa-d20d-42cf-cce7-fbf511ae3d3e"
      },
      "outputs": [
        {
          "output_type": "stream",
          "name": "stdout",
          "text": [
            "1/1 [==============================] - 0s 176ms/step\n",
            "[[18.976116]]\n"
          ]
        }
      ],
      "source": [
        "import numpy as np\n",
        "import tensorflow as tf\n",
        "from tensorflow import keras\n",
        "from google.colab import output\n",
        "\n",
        "\n",
        "\n",
        "\n",
        "print(tf.__version__)\n",
        "\n",
        "\n",
        "class approximateFunction:\n",
        "    def __init__(self):\n",
        "        pass\n",
        "\n",
        "    def hw_function(self, x):\n",
        "        y = 2*(x)-1\n",
        "        return y\n",
        "\n",
        "def modle():\n",
        "   # This is the definition of a NN - 1 input, 1 layer. \n",
        "    model = tf.keras.Sequential([keras.layers.Dense(units=1, input_shape=[1])])\n",
        "   # Compile the model\n",
        "    model.compile(optimizer='sgd', loss='mean_squared_error')\n",
        "    #optimizer: sgd - stochastic gradient decent (iterative method for optimizing an objective function)\n",
        "    #loss: used to evaluate how off we are from correct output %error = (Ycorrect - Yexp)^2 * 100 smaller % the better \n",
        "    xs,ys = dataForFunc()\n",
        "    #train the model\n",
        "    model.fit(xs,ys,epochs=500)\n",
        "    output.clear()\n",
        "    print(model.predict([10.0]))\n",
        "\n",
        "def dataForFunc():\n",
        "    # Declare model inputs and outputs for training\n",
        "    xs = np.array([-1.0,  0.0, 1.0, 2.0, 3.0, 4.0], dtype=float)\n",
        "    ys = np.array([-3.0, -1.0, 1.0, 3.0, 5.0, 7.0], dtype=float)\n",
        "    return (xs,ys)\n",
        "\n",
        " \n",
        "def main():\n",
        "    func = approximateFunction()\n",
        "    y1 = func.hw_function(0)\n",
        "    print(\"testing hw function \" + str(y1))\n",
        "    modle()\n",
        "\n",
        "\n",
        "# this allows us to use lab1.py as a modle and to be ran as a script so now you could do import lab1.py in another file\n",
        "if __name__ == \"__main__\":\n",
        "    main()\n"
      ]
    },
    {
      "cell_type": "code",
      "source": [],
      "metadata": {
        "id": "JGMktFSrFn5H"
      },
      "execution_count": null,
      "outputs": []
    }
  ]
}